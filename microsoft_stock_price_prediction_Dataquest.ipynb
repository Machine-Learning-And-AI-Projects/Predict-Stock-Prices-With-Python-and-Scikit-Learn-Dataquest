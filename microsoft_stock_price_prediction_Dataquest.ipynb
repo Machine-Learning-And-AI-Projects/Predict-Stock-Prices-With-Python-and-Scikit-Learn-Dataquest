{
  "cells": [
    {
      "cell_type": "code",
      "execution_count": 1,
      "metadata": {},
      "outputs": [],
      "source": [
        "# Predict-Stock-Prices-With-Python-and-Scikit-Learn-Dataquest\n",
        "\n",
        "# Predict Stock Prices With Python and Scikit-Learn: Machine Learning Project\n",
        "\n",
        "# Playlist Title - Dataquest Project Walkthroughs\n",
        "\n",
        "# Playlist Link - <https://youtube.com/playlist?list=PL6UJrXaOPPcEesMFPaieQJwnBvKiRH2tT>\n",
        "\n",
        "# Channel Name - Dataquest\n",
        "\n",
        "# Channel Link - <https://www.youtube.com/c/Dataquestio>"
      ]
    },
    {
      "cell_type": "markdown",
      "metadata": {
        "id": "wVocQm4Sms77"
      },
      "source": [
        "# 1. Downloading Stock Data"
      ]
    },
    {
      "cell_type": "code",
      "execution_count": 1,
      "metadata": {
        "colab": {
          "base_uri": "https://localhost:8080/"
        },
        "id": "MSASEnoLr8KB",
        "outputId": "e7fb557e-6a16-4c81-90ab-346a0166e59c"
      },
      "outputs": [
        {
          "name": "stdout",
          "output_type": "stream",
          "text": [
            "Looking in indexes: https://pypi.org/simple, https://us-python.pkg.dev/colab-wheels/public/simple/\n",
            "Collecting yfinance\n",
            "  Downloading yfinance-0.1.74-py2.py3-none-any.whl (27 kB)\n",
            "Requirement already satisfied: pandas>=0.24.0 in /usr/local/lib/python3.7/dist-packages (from yfinance) (1.3.5)\n",
            "Collecting requests>=2.26\n",
            "  Downloading requests-2.28.1-py3-none-any.whl (62 kB)\n",
            "\u001b[K     |████████████████████████████████| 62 kB 1.0 MB/s \n",
            "\u001b[?25hRequirement already satisfied: lxml>=4.5.1 in /usr/local/lib/python3.7/dist-packages (from yfinance) (4.9.1)\n",
            "Requirement already satisfied: multitasking>=0.0.7 in /usr/local/lib/python3.7/dist-packages (from yfinance) (0.0.11)\n",
            "Requirement already satisfied: numpy>=1.15 in /usr/local/lib/python3.7/dist-packages (from yfinance) (1.21.6)\n",
            "Requirement already satisfied: pytz>=2017.3 in /usr/local/lib/python3.7/dist-packages (from pandas>=0.24.0->yfinance) (2022.2.1)\n",
            "Requirement already satisfied: python-dateutil>=2.7.3 in /usr/local/lib/python3.7/dist-packages (from pandas>=0.24.0->yfinance) (2.8.2)\n",
            "Requirement already satisfied: six>=1.5 in /usr/local/lib/python3.7/dist-packages (from python-dateutil>=2.7.3->pandas>=0.24.0->yfinance) (1.15.0)\n",
            "Requirement already satisfied: charset-normalizer<3,>=2 in /usr/local/lib/python3.7/dist-packages (from requests>=2.26->yfinance) (2.1.1)\n",
            "Requirement already satisfied: idna<4,>=2.5 in /usr/local/lib/python3.7/dist-packages (from requests>=2.26->yfinance) (2.10)\n",
            "Requirement already satisfied: urllib3<1.27,>=1.21.1 in /usr/local/lib/python3.7/dist-packages (from requests>=2.26->yfinance) (1.24.3)\n",
            "Requirement already satisfied: certifi>=2017.4.17 in /usr/local/lib/python3.7/dist-packages (from requests>=2.26->yfinance) (2022.6.15)\n",
            "Installing collected packages: requests, yfinance\n",
            "  Attempting uninstall: requests\n",
            "    Found existing installation: requests 2.23.0\n",
            "    Uninstalling requests-2.23.0:\n",
            "      Successfully uninstalled requests-2.23.0\n",
            "Successfully installed requests-2.28.1 yfinance-0.1.74\n"
          ]
        }
      ],
      "source": [
        "!pip install yfinance"
      ]
    },
    {
      "cell_type": "code",
      "execution_count": 2,
      "metadata": {
        "id": "0csSJyT1s7WT"
      },
      "outputs": [],
      "source": [
        "# importing libraries\n",
        "import yfinance as yf\n",
        "import os"
      ]
    },
    {
      "cell_type": "code",
      "execution_count": 3,
      "metadata": {
        "id": "ilWmGMhGtaPz"
      },
      "outputs": [],
      "source": [
        "msft = yf.Ticker('MSFT')\n",
        "msft_hist = msft.history(period='max')"
      ]
    },
    {
      "cell_type": "code",
      "execution_count": 4,
      "metadata": {
        "colab": {
          "base_uri": "https://localhost:8080/",
          "height": 237
        },
        "id": "1rWtFGFHtsBm",
        "outputId": "6cd80b7f-7093-4724-adda-a0604845fb38"
      },
      "outputs": [
        {
          "data": {
            "text/html": [
              "\n",
              "  <div id=\"df-b7a0498c-0344-43c3-9ed3-f744d281a17a\">\n",
              "    <div class=\"colab-df-container\">\n",
              "      <div>\n",
              "<style scoped>\n",
              "    .dataframe tbody tr th:only-of-type {\n",
              "        vertical-align: middle;\n",
              "    }\n",
              "\n",
              "    .dataframe tbody tr th {\n",
              "        vertical-align: top;\n",
              "    }\n",
              "\n",
              "    .dataframe thead th {\n",
              "        text-align: right;\n",
              "    }\n",
              "</style>\n",
              "<table border=\"1\" class=\"dataframe\">\n",
              "  <thead>\n",
              "    <tr style=\"text-align: right;\">\n",
              "      <th></th>\n",
              "      <th>Open</th>\n",
              "      <th>High</th>\n",
              "      <th>Low</th>\n",
              "      <th>Close</th>\n",
              "      <th>Volume</th>\n",
              "      <th>Dividends</th>\n",
              "      <th>Stock Splits</th>\n",
              "    </tr>\n",
              "    <tr>\n",
              "      <th>Date</th>\n",
              "      <th></th>\n",
              "      <th></th>\n",
              "      <th></th>\n",
              "      <th></th>\n",
              "      <th></th>\n",
              "      <th></th>\n",
              "      <th></th>\n",
              "    </tr>\n",
              "  </thead>\n",
              "  <tbody>\n",
              "    <tr>\n",
              "      <th>1986-03-13</th>\n",
              "      <td>0.055536</td>\n",
              "      <td>0.063703</td>\n",
              "      <td>0.055536</td>\n",
              "      <td>0.060980</td>\n",
              "      <td>1031788800</td>\n",
              "      <td>0.0</td>\n",
              "      <td>0.0</td>\n",
              "    </tr>\n",
              "    <tr>\n",
              "      <th>1986-03-14</th>\n",
              "      <td>0.060980</td>\n",
              "      <td>0.064247</td>\n",
              "      <td>0.060980</td>\n",
              "      <td>0.063158</td>\n",
              "      <td>308160000</td>\n",
              "      <td>0.0</td>\n",
              "      <td>0.0</td>\n",
              "    </tr>\n",
              "    <tr>\n",
              "      <th>1986-03-17</th>\n",
              "      <td>0.063158</td>\n",
              "      <td>0.064792</td>\n",
              "      <td>0.063158</td>\n",
              "      <td>0.064247</td>\n",
              "      <td>133171200</td>\n",
              "      <td>0.0</td>\n",
              "      <td>0.0</td>\n",
              "    </tr>\n",
              "    <tr>\n",
              "      <th>1986-03-18</th>\n",
              "      <td>0.064247</td>\n",
              "      <td>0.064792</td>\n",
              "      <td>0.062069</td>\n",
              "      <td>0.062613</td>\n",
              "      <td>67766400</td>\n",
              "      <td>0.0</td>\n",
              "      <td>0.0</td>\n",
              "    </tr>\n",
              "    <tr>\n",
              "      <th>1986-03-19</th>\n",
              "      <td>0.062613</td>\n",
              "      <td>0.063158</td>\n",
              "      <td>0.060980</td>\n",
              "      <td>0.061524</td>\n",
              "      <td>47894400</td>\n",
              "      <td>0.0</td>\n",
              "      <td>0.0</td>\n",
              "    </tr>\n",
              "  </tbody>\n",
              "</table>\n",
              "</div>\n",
              "      <button class=\"colab-df-convert\" onclick=\"convertToInteractive('df-b7a0498c-0344-43c3-9ed3-f744d281a17a')\"\n",
              "              title=\"Convert this dataframe to an interactive table.\"\n",
              "              style=\"display:none;\">\n",
              "        \n",
              "  <svg xmlns=\"http://www.w3.org/2000/svg\" height=\"24px\"viewBox=\"0 0 24 24\"\n",
              "       width=\"24px\">\n",
              "    <path d=\"M0 0h24v24H0V0z\" fill=\"none\"/>\n",
              "    <path d=\"M18.56 5.44l.94 2.06.94-2.06 2.06-.94-2.06-.94-.94-2.06-.94 2.06-2.06.94zm-11 1L8.5 8.5l.94-2.06 2.06-.94-2.06-.94L8.5 2.5l-.94 2.06-2.06.94zm10 10l.94 2.06.94-2.06 2.06-.94-2.06-.94-.94-2.06-.94 2.06-2.06.94z\"/><path d=\"M17.41 7.96l-1.37-1.37c-.4-.4-.92-.59-1.43-.59-.52 0-1.04.2-1.43.59L10.3 9.45l-7.72 7.72c-.78.78-.78 2.05 0 2.83L4 21.41c.39.39.9.59 1.41.59.51 0 1.02-.2 1.41-.59l7.78-7.78 2.81-2.81c.8-.78.8-2.07 0-2.86zM5.41 20L4 18.59l7.72-7.72 1.47 1.35L5.41 20z\"/>\n",
              "  </svg>\n",
              "      </button>\n",
              "      \n",
              "  <style>\n",
              "    .colab-df-container {\n",
              "      display:flex;\n",
              "      flex-wrap:wrap;\n",
              "      gap: 12px;\n",
              "    }\n",
              "\n",
              "    .colab-df-convert {\n",
              "      background-color: #E8F0FE;\n",
              "      border: none;\n",
              "      border-radius: 50%;\n",
              "      cursor: pointer;\n",
              "      display: none;\n",
              "      fill: #1967D2;\n",
              "      height: 32px;\n",
              "      padding: 0 0 0 0;\n",
              "      width: 32px;\n",
              "    }\n",
              "\n",
              "    .colab-df-convert:hover {\n",
              "      background-color: #E2EBFA;\n",
              "      box-shadow: 0px 1px 2px rgba(60, 64, 67, 0.3), 0px 1px 3px 1px rgba(60, 64, 67, 0.15);\n",
              "      fill: #174EA6;\n",
              "    }\n",
              "\n",
              "    [theme=dark] .colab-df-convert {\n",
              "      background-color: #3B4455;\n",
              "      fill: #D2E3FC;\n",
              "    }\n",
              "\n",
              "    [theme=dark] .colab-df-convert:hover {\n",
              "      background-color: #434B5C;\n",
              "      box-shadow: 0px 1px 3px 1px rgba(0, 0, 0, 0.15);\n",
              "      filter: drop-shadow(0px 1px 2px rgba(0, 0, 0, 0.3));\n",
              "      fill: #FFFFFF;\n",
              "    }\n",
              "  </style>\n",
              "\n",
              "      <script>\n",
              "        const buttonEl =\n",
              "          document.querySelector('#df-b7a0498c-0344-43c3-9ed3-f744d281a17a button.colab-df-convert');\n",
              "        buttonEl.style.display =\n",
              "          google.colab.kernel.accessAllowed ? 'block' : 'none';\n",
              "\n",
              "        async function convertToInteractive(key) {\n",
              "          const element = document.querySelector('#df-b7a0498c-0344-43c3-9ed3-f744d281a17a');\n",
              "          const dataTable =\n",
              "            await google.colab.kernel.invokeFunction('convertToInteractive',\n",
              "                                                     [key], {});\n",
              "          if (!dataTable) return;\n",
              "\n",
              "          const docLinkHtml = 'Like what you see? Visit the ' +\n",
              "            '<a target=\"_blank\" href=https://colab.research.google.com/notebooks/data_table.ipynb>data table notebook</a>'\n",
              "            + ' to learn more about interactive tables.';\n",
              "          element.innerHTML = '';\n",
              "          dataTable['output_type'] = 'display_data';\n",
              "          await google.colab.output.renderOutput(dataTable, element);\n",
              "          const docLink = document.createElement('div');\n",
              "          docLink.innerHTML = docLinkHtml;\n",
              "          element.appendChild(docLink);\n",
              "        }\n",
              "      </script>\n",
              "    </div>\n",
              "  </div>\n",
              "  "
            ],
            "text/plain": [
              "                Open      High       Low     Close      Volume  Dividends  \\\n",
              "Date                                                                        \n",
              "1986-03-13  0.055536  0.063703  0.055536  0.060980  1031788800        0.0   \n",
              "1986-03-14  0.060980  0.064247  0.060980  0.063158   308160000        0.0   \n",
              "1986-03-17  0.063158  0.064792  0.063158  0.064247   133171200        0.0   \n",
              "1986-03-18  0.064247  0.064792  0.062069  0.062613    67766400        0.0   \n",
              "1986-03-19  0.062613  0.063158  0.060980  0.061524    47894400        0.0   \n",
              "\n",
              "            Stock Splits  \n",
              "Date                      \n",
              "1986-03-13           0.0  \n",
              "1986-03-14           0.0  \n",
              "1986-03-17           0.0  \n",
              "1986-03-18           0.0  \n",
              "1986-03-19           0.0  "
            ]
          },
          "execution_count": 4,
          "metadata": {},
          "output_type": "execute_result"
        }
      ],
      "source": [
        "msft_hist[:5]"
      ]
    },
    {
      "cell_type": "code",
      "execution_count": 5,
      "metadata": {
        "colab": {
          "base_uri": "https://localhost:8080/"
        },
        "id": "kk1oVARRuRb7",
        "outputId": "4810ec7d-ba0b-4d4a-ec64-b3b7322bc14b"
      },
      "outputs": [
        {
          "data": {
            "text/plain": [
              "pandas.core.frame.DataFrame"
            ]
          },
          "execution_count": 5,
          "metadata": {},
          "output_type": "execute_result"
        }
      ],
      "source": [
        "type(msft_hist)"
      ]
    },
    {
      "cell_type": "code",
      "execution_count": 6,
      "metadata": {
        "colab": {
          "base_uri": "https://localhost:8080/"
        },
        "id": "cuc0KLLCt1AS",
        "outputId": "6d23c8e5-3f0b-4d44-fca7-9daec2e60b6d"
      },
      "outputs": [
        {
          "data": {
            "text/plain": [
              "(9208, 7)"
            ]
          },
          "execution_count": 6,
          "metadata": {},
          "output_type": "execute_result"
        }
      ],
      "source": [
        "msft_hist.shape"
      ]
    },
    {
      "cell_type": "code",
      "execution_count": 7,
      "metadata": {
        "colab": {
          "base_uri": "https://localhost:8080/"
        },
        "id": "y4zOOPqyuEHZ",
        "outputId": "2b9df3fc-2cb6-4331-ea55-7ca0418d2cd1"
      },
      "outputs": [
        {
          "name": "stdout",
          "output_type": "stream",
          "text": [
            "<class 'pandas.core.frame.DataFrame'>\n",
            "DatetimeIndex: 9208 entries, 1986-03-13 to 2022-09-22\n",
            "Data columns (total 7 columns):\n",
            " #   Column        Non-Null Count  Dtype  \n",
            "---  ------        --------------  -----  \n",
            " 0   Open          9208 non-null   float64\n",
            " 1   High          9208 non-null   float64\n",
            " 2   Low           9208 non-null   float64\n",
            " 3   Close         9208 non-null   float64\n",
            " 4   Volume        9208 non-null   int64  \n",
            " 5   Dividends     9208 non-null   float64\n",
            " 6   Stock Splits  9208 non-null   float64\n",
            "dtypes: float64(6), int64(1)\n",
            "memory usage: 575.5 KB\n"
          ]
        }
      ],
      "source": [
        "msft_hist.info()"
      ]
    },
    {
      "cell_type": "code",
      "execution_count": 8,
      "metadata": {
        "colab": {
          "base_uri": "https://localhost:8080/",
          "height": 286
        },
        "id": "VkoMvbkPuGPF",
        "outputId": "a0167ff0-deb7-4f8d-d481-495eef6d5baa"
      },
      "outputs": [
        {
          "data": {
            "text/plain": [
              "<matplotlib.axes._subplots.AxesSubplot at 0x7f6219e66a50>"
            ]
          },
          "execution_count": 8,
          "metadata": {},
          "output_type": "execute_result"
        },
        {
          "data": {
            "image/png": "[encoded data removed]",
            "text/plain": [
              "<Figure size 432x288 with 1 Axes>"
            ]
          },
          "metadata": {
            "needs_background": "light"
          },
          "output_type": "display_data"
        }
      ],
      "source": [
        "msft_hist.plot.line(y='Close', use_index=True)"
      ]
    },
    {
      "cell_type": "code",
      "execution_count": 8,
      "metadata": {
        "id": "OsdbYic0vShE"
      },
      "outputs": [],
      "source": []
    },
    {
      "cell_type": "markdown",
      "metadata": {
        "id": "hTVElyigm3YU"
      },
      "source": [
        "# 2. Preparing the Data for Machine Learning"
      ]
    },
    {
      "cell_type": "code",
      "execution_count": 9,
      "metadata": {
        "id": "LyaLcMXevdqx"
      },
      "outputs": [],
      "source": [
        "data= msft_hist[['Close']]\n",
        "data=data.rename(columns={'Close':'Actual_Close'})\n",
        "data['Target'] = msft_hist.rolling(2).apply(lambda x: x.iloc[1] > x.iloc[0])['Close']"
      ]
    },
    {
      "cell_type": "code",
      "execution_count": 10,
      "metadata": {
        "colab": {
          "base_uri": "https://localhost:8080/",
          "height": 237
        },
        "id": "EcbBltVFwF4-",
        "outputId": "62b6c03e-4d69-4d9d-9245-8f74202ea5d3"
      },
      "outputs": [
        {
          "data": {
            "text/html": [
              "\n",
              "  <div id=\"df-c94b5dbb-62af-48a0-b0b4-aa72d3e68ee5\">\n",
              "    <div class=\"colab-df-container\">\n",
              "      <div>\n",
              "<style scoped>\n",
              "    .dataframe tbody tr th:only-of-type {\n",
              "        vertical-align: middle;\n",
              "    }\n",
              "\n",
              "    .dataframe tbody tr th {\n",
              "        vertical-align: top;\n",
              "    }\n",
              "\n",
              "    .dataframe thead th {\n",
              "        text-align: right;\n",
              "    }\n",
              "</style>\n",
              "<table border=\"1\" class=\"dataframe\">\n",
              "  <thead>\n",
              "    <tr style=\"text-align: right;\">\n",
              "      <th></th>\n",
              "      <th>Actual_Close</th>\n",
              "      <th>Target</th>\n",
              "    </tr>\n",
              "    <tr>\n",
              "      <th>Date</th>\n",
              "      <th></th>\n",
              "      <th></th>\n",
              "    </tr>\n",
              "  </thead>\n",
              "  <tbody>\n",
              "    <tr>\n",
              "      <th>1986-03-13</th>\n",
              "      <td>0.060980</td>\n",
              "      <td>NaN</td>\n",
              "    </tr>\n",
              "    <tr>\n",
              "      <th>1986-03-14</th>\n",
              "      <td>0.063158</td>\n",
              "      <td>1.0</td>\n",
              "    </tr>\n",
              "    <tr>\n",
              "      <th>1986-03-17</th>\n",
              "      <td>0.064247</td>\n",
              "      <td>1.0</td>\n",
              "    </tr>\n",
              "    <tr>\n",
              "      <th>1986-03-18</th>\n",
              "      <td>0.062613</td>\n",
              "      <td>0.0</td>\n",
              "    </tr>\n",
              "    <tr>\n",
              "      <th>1986-03-19</th>\n",
              "      <td>0.061524</td>\n",
              "      <td>0.0</td>\n",
              "    </tr>\n",
              "  </tbody>\n",
              "</table>\n",
              "</div>\n",
              "      <button class=\"colab-df-convert\" onclick=\"convertToInteractive('df-c94b5dbb-62af-48a0-b0b4-aa72d3e68ee5')\"\n",
              "              title=\"Convert this dataframe to an interactive table.\"\n",
              "              style=\"display:none;\">\n",
              "        \n",
              "  <svg xmlns=\"http://www.w3.org/2000/svg\" height=\"24px\"viewBox=\"0 0 24 24\"\n",
              "       width=\"24px\">\n",
              "    <path d=\"M0 0h24v24H0V0z\" fill=\"none\"/>\n",
              "    <path d=\"M18.56 5.44l.94 2.06.94-2.06 2.06-.94-2.06-.94-.94-2.06-.94 2.06-2.06.94zm-11 1L8.5 8.5l.94-2.06 2.06-.94-2.06-.94L8.5 2.5l-.94 2.06-2.06.94zm10 10l.94 2.06.94-2.06 2.06-.94-2.06-.94-.94-2.06-.94 2.06-2.06.94z\"/><path d=\"M17.41 7.96l-1.37-1.37c-.4-.4-.92-.59-1.43-.59-.52 0-1.04.2-1.43.59L10.3 9.45l-7.72 7.72c-.78.78-.78 2.05 0 2.83L4 21.41c.39.39.9.59 1.41.59.51 0 1.02-.2 1.41-.59l7.78-7.78 2.81-2.81c.8-.78.8-2.07 0-2.86zM5.41 20L4 18.59l7.72-7.72 1.47 1.35L5.41 20z\"/>\n",
              "  </svg>\n",
              "      </button>\n",
              "      \n",
              "  <style>\n",
              "    .colab-df-container {\n",
              "      display:flex;\n",
              "      flex-wrap:wrap;\n",
              "      gap: 12px;\n",
              "    }\n",
              "\n",
              "    .colab-df-convert {\n",
              "      background-color: #E8F0FE;\n",
              "      border: none;\n",
              "      border-radius: 50%;\n",
              "      cursor: pointer;\n",
              "      display: none;\n",
              "      fill: #1967D2;\n",
              "      height: 32px;\n",
              "      padding: 0 0 0 0;\n",
              "      width: 32px;\n",
              "    }\n",
              "\n",
              "    .colab-df-convert:hover {\n",
              "      background-color: #E2EBFA;\n",
              "      box-shadow: 0px 1px 2px rgba(60, 64, 67, 0.3), 0px 1px 3px 1px rgba(60, 64, 67, 0.15);\n",
              "      fill: #174EA6;\n",
              "    }\n",
              "\n",
              "    [theme=dark] .colab-df-convert {\n",
              "      background-color: #3B4455;\n",
              "      fill: #D2E3FC;\n",
              "    }\n",
              "\n",
              "    [theme=dark] .colab-df-convert:hover {\n",
              "      background-color: #434B5C;\n",
              "      box-shadow: 0px 1px 3px 1px rgba(0, 0, 0, 0.15);\n",
              "      filter: drop-shadow(0px 1px 2px rgba(0, 0, 0, 0.3));\n",
              "      fill: #FFFFFF;\n",
              "    }\n",
              "  </style>\n",
              "\n",
              "      <script>\n",
              "        const buttonEl =\n",
              "          document.querySelector('#df-c94b5dbb-62af-48a0-b0b4-aa72d3e68ee5 button.colab-df-convert');\n",
              "        buttonEl.style.display =\n",
              "          google.colab.kernel.accessAllowed ? 'block' : 'none';\n",
              "\n",
              "        async function convertToInteractive(key) {\n",
              "          const element = document.querySelector('#df-c94b5dbb-62af-48a0-b0b4-aa72d3e68ee5');\n",
              "          const dataTable =\n",
              "            await google.colab.kernel.invokeFunction('convertToInteractive',\n",
              "                                                     [key], {});\n",
              "          if (!dataTable) return;\n",
              "\n",
              "          const docLinkHtml = 'Like what you see? Visit the ' +\n",
              "            '<a target=\"_blank\" href=https://colab.research.google.com/notebooks/data_table.ipynb>data table notebook</a>'\n",
              "            + ' to learn more about interactive tables.';\n",
              "          element.innerHTML = '';\n",
              "          dataTable['output_type'] = 'display_data';\n",
              "          await google.colab.output.renderOutput(dataTable, element);\n",
              "          const docLink = document.createElement('div');\n",
              "          docLink.innerHTML = docLinkHtml;\n",
              "          element.appendChild(docLink);\n",
              "        }\n",
              "      </script>\n",
              "    </div>\n",
              "  </div>\n",
              "  "
            ],
            "text/plain": [
              "            Actual_Close  Target\n",
              "Date                            \n",
              "1986-03-13      0.060980     NaN\n",
              "1986-03-14      0.063158     1.0\n",
              "1986-03-17      0.064247     1.0\n",
              "1986-03-18      0.062613     0.0\n",
              "1986-03-19      0.061524     0.0"
            ]
          },
          "execution_count": 10,
          "metadata": {},
          "output_type": "execute_result"
        }
      ],
      "source": [
        "data.head()"
      ]
    },
    {
      "cell_type": "code",
      "execution_count": 11,
      "metadata": {
        "id": "AXEEQ_MNxJIN"
      },
      "outputs": [],
      "source": [
        "msft_prev = msft_hist.copy()"
      ]
    },
    {
      "cell_type": "code",
      "execution_count": 12,
      "metadata": {
        "id": "seFLJV8Ohb0P"
      },
      "outputs": [],
      "source": [
        "msft_prev = msft_prev.shift(1) # shifting the data by 1 day because we are using today's data to predict what will be the price tomorrow or using yesterday's data to predict today."
      ]
    },
    {
      "cell_type": "code",
      "execution_count": 13,
      "metadata": {
        "colab": {
          "base_uri": "https://localhost:8080/",
          "height": 237
        },
        "id": "VuqamuMNhifD",
        "outputId": "163b2312-3346-4f2c-b2d6-75792aea15cd"
      },
      "outputs": [
        {
          "data": {
            "text/html": [
              "\n",
              "  <div id=\"df-3abfcdbf-b83c-4dee-95a7-7b5f375fd761\">\n",
              "    <div class=\"colab-df-container\">\n",
              "      <div>\n",
              "<style scoped>\n",
              "    .dataframe tbody tr th:only-of-type {\n",
              "        vertical-align: middle;\n",
              "    }\n",
              "\n",
              "    .dataframe tbody tr th {\n",
              "        vertical-align: top;\n",
              "    }\n",
              "\n",
              "    .dataframe thead th {\n",
              "        text-align: right;\n",
              "    }\n",
              "</style>\n",
              "<table border=\"1\" class=\"dataframe\">\n",
              "  <thead>\n",
              "    <tr style=\"text-align: right;\">\n",
              "      <th></th>\n",
              "      <th>Open</th>\n",
              "      <th>High</th>\n",
              "      <th>Low</th>\n",
              "      <th>Close</th>\n",
              "      <th>Volume</th>\n",
              "      <th>Dividends</th>\n",
              "      <th>Stock Splits</th>\n",
              "    </tr>\n",
              "    <tr>\n",
              "      <th>Date</th>\n",
              "      <th></th>\n",
              "      <th></th>\n",
              "      <th></th>\n",
              "      <th></th>\n",
              "      <th></th>\n",
              "      <th></th>\n",
              "      <th></th>\n",
              "    </tr>\n",
              "  </thead>\n",
              "  <tbody>\n",
              "    <tr>\n",
              "      <th>1986-03-13</th>\n",
              "      <td>NaN</td>\n",
              "      <td>NaN</td>\n",
              "      <td>NaN</td>\n",
              "      <td>NaN</td>\n",
              "      <td>NaN</td>\n",
              "      <td>NaN</td>\n",
              "      <td>NaN</td>\n",
              "    </tr>\n",
              "    <tr>\n",
              "      <th>1986-03-14</th>\n",
              "      <td>0.055536</td>\n",
              "      <td>0.063703</td>\n",
              "      <td>0.055536</td>\n",
              "      <td>0.060980</td>\n",
              "      <td>1.031789e+09</td>\n",
              "      <td>0.0</td>\n",
              "      <td>0.0</td>\n",
              "    </tr>\n",
              "    <tr>\n",
              "      <th>1986-03-17</th>\n",
              "      <td>0.060980</td>\n",
              "      <td>0.064247</td>\n",
              "      <td>0.060980</td>\n",
              "      <td>0.063158</td>\n",
              "      <td>3.081600e+08</td>\n",
              "      <td>0.0</td>\n",
              "      <td>0.0</td>\n",
              "    </tr>\n",
              "    <tr>\n",
              "      <th>1986-03-18</th>\n",
              "      <td>0.063158</td>\n",
              "      <td>0.064792</td>\n",
              "      <td>0.063158</td>\n",
              "      <td>0.064247</td>\n",
              "      <td>1.331712e+08</td>\n",
              "      <td>0.0</td>\n",
              "      <td>0.0</td>\n",
              "    </tr>\n",
              "    <tr>\n",
              "      <th>1986-03-19</th>\n",
              "      <td>0.064247</td>\n",
              "      <td>0.064792</td>\n",
              "      <td>0.062069</td>\n",
              "      <td>0.062613</td>\n",
              "      <td>6.776640e+07</td>\n",
              "      <td>0.0</td>\n",
              "      <td>0.0</td>\n",
              "    </tr>\n",
              "  </tbody>\n",
              "</table>\n",
              "</div>\n",
              "      <button class=\"colab-df-convert\" onclick=\"convertToInteractive('df-3abfcdbf-b83c-4dee-95a7-7b5f375fd761')\"\n",
              "              title=\"Convert this dataframe to an interactive table.\"\n",
              "              style=\"display:none;\">\n",
              "        \n",
              "  <svg xmlns=\"http://www.w3.org/2000/svg\" height=\"24px\"viewBox=\"0 0 24 24\"\n",
              "       width=\"24px\">\n",
              "    <path d=\"M0 0h24v24H0V0z\" fill=\"none\"/>\n",
              "    <path d=\"M18.56 5.44l.94 2.06.94-2.06 2.06-.94-2.06-.94-.94-2.06-.94 2.06-2.06.94zm-11 1L8.5 8.5l.94-2.06 2.06-.94-2.06-.94L8.5 2.5l-.94 2.06-2.06.94zm10 10l.94 2.06.94-2.06 2.06-.94-2.06-.94-.94-2.06-.94 2.06-2.06.94z\"/><path d=\"M17.41 7.96l-1.37-1.37c-.4-.4-.92-.59-1.43-.59-.52 0-1.04.2-1.43.59L10.3 9.45l-7.72 7.72c-.78.78-.78 2.05 0 2.83L4 21.41c.39.39.9.59 1.41.59.51 0 1.02-.2 1.41-.59l7.78-7.78 2.81-2.81c.8-.78.8-2.07 0-2.86zM5.41 20L4 18.59l7.72-7.72 1.47 1.35L5.41 20z\"/>\n",
              "  </svg>\n",
              "      </button>\n",
              "      \n",
              "  <style>\n",
              "    .colab-df-container {\n",
              "      display:flex;\n",
              "      flex-wrap:wrap;\n",
              "      gap: 12px;\n",
              "    }\n",
              "\n",
              "    .colab-df-convert {\n",
              "      background-color: #E8F0FE;\n",
              "      border: none;\n",
              "      border-radius: 50%;\n",
              "      cursor: pointer;\n",
              "      display: none;\n",
              "      fill: #1967D2;\n",
              "      height: 32px;\n",
              "      padding: 0 0 0 0;\n",
              "      width: 32px;\n",
              "    }\n",
              "\n",
              "    .colab-df-convert:hover {\n",
              "      background-color: #E2EBFA;\n",
              "      box-shadow: 0px 1px 2px rgba(60, 64, 67, 0.3), 0px 1px 3px 1px rgba(60, 64, 67, 0.15);\n",
              "      fill: #174EA6;\n",
              "    }\n",
              "\n",
              "    [theme=dark] .colab-df-convert {\n",
              "      background-color: #3B4455;\n",
              "      fill: #D2E3FC;\n",
              "    }\n",
              "\n",
              "    [theme=dark] .colab-df-convert:hover {\n",
              "      background-color: #434B5C;\n",
              "      box-shadow: 0px 1px 3px 1px rgba(0, 0, 0, 0.15);\n",
              "      filter: drop-shadow(0px 1px 2px rgba(0, 0, 0, 0.3));\n",
              "      fill: #FFFFFF;\n",
              "    }\n",
              "  </style>\n",
              "\n",
              "      <script>\n",
              "        const buttonEl =\n",
              "          document.querySelector('#df-3abfcdbf-b83c-4dee-95a7-7b5f375fd761 button.colab-df-convert');\n",
              "        buttonEl.style.display =\n",
              "          google.colab.kernel.accessAllowed ? 'block' : 'none';\n",
              "\n",
              "        async function convertToInteractive(key) {\n",
              "          const element = document.querySelector('#df-3abfcdbf-b83c-4dee-95a7-7b5f375fd761');\n",
              "          const dataTable =\n",
              "            await google.colab.kernel.invokeFunction('convertToInteractive',\n",
              "                                                     [key], {});\n",
              "          if (!dataTable) return;\n",
              "\n",
              "          const docLinkHtml = 'Like what you see? Visit the ' +\n",
              "            '<a target=\"_blank\" href=https://colab.research.google.com/notebooks/data_table.ipynb>data table notebook</a>'\n",
              "            + ' to learn more about interactive tables.';\n",
              "          element.innerHTML = '';\n",
              "          dataTable['output_type'] = 'display_data';\n",
              "          await google.colab.output.renderOutput(dataTable, element);\n",
              "          const docLink = document.createElement('div');\n",
              "          docLink.innerHTML = docLinkHtml;\n",
              "          element.appendChild(docLink);\n",
              "        }\n",
              "      </script>\n",
              "    </div>\n",
              "  </div>\n",
              "  "
            ],
            "text/plain": [
              "                Open      High       Low     Close        Volume  Dividends  \\\n",
              "Date                                                                          \n",
              "1986-03-13       NaN       NaN       NaN       NaN           NaN        NaN   \n",
              "1986-03-14  0.055536  0.063703  0.055536  0.060980  1.031789e+09        0.0   \n",
              "1986-03-17  0.060980  0.064247  0.060980  0.063158  3.081600e+08        0.0   \n",
              "1986-03-18  0.063158  0.064792  0.063158  0.064247  1.331712e+08        0.0   \n",
              "1986-03-19  0.064247  0.064792  0.062069  0.062613  6.776640e+07        0.0   \n",
              "\n",
              "            Stock Splits  \n",
              "Date                      \n",
              "1986-03-13           NaN  \n",
              "1986-03-14           0.0  \n",
              "1986-03-17           0.0  \n",
              "1986-03-18           0.0  \n",
              "1986-03-19           0.0  "
            ]
          },
          "execution_count": 13,
          "metadata": {},
          "output_type": "execute_result"
        }
      ],
      "source": [
        "msft_prev.head()"
      ]
    },
    {
      "cell_type": "code",
      "execution_count": 14,
      "metadata": {
        "id": "DpT5AvAshlBt"
      },
      "outputs": [],
      "source": [
        "predictors = ['Close', 'High', 'Low', 'Open', 'Volume'] # clolumns used to make predictions\n",
        "data = data.join(msft_prev[predictors]).iloc[1:]"
      ]
    },
    {
      "cell_type": "code",
      "execution_count": 15,
      "metadata": {
        "colab": {
          "base_uri": "https://localhost:8080/",
          "height": 237
        },
        "id": "VJ7_LzAOiS9W",
        "outputId": "5b684c78-8a81-40ed-ba11-3536d9fa8bf4"
      },
      "outputs": [
        {
          "data": {
            "text/html": [
              "\n",
              "  <div id=\"df-1c48fcdb-63ee-402a-9bdf-b272a06c9fd3\">\n",
              "    <div class=\"colab-df-container\">\n",
              "      <div>\n",
              "<style scoped>\n",
              "    .dataframe tbody tr th:only-of-type {\n",
              "        vertical-align: middle;\n",
              "    }\n",
              "\n",
              "    .dataframe tbody tr th {\n",
              "        vertical-align: top;\n",
              "    }\n",
              "\n",
              "    .dataframe thead th {\n",
              "        text-align: right;\n",
              "    }\n",
              "</style>\n",
              "<table border=\"1\" class=\"dataframe\">\n",
              "  <thead>\n",
              "    <tr style=\"text-align: right;\">\n",
              "      <th></th>\n",
              "      <th>Actual_Close</th>\n",
              "      <th>Target</th>\n",
              "      <th>Close</th>\n",
              "      <th>High</th>\n",
              "      <th>Low</th>\n",
              "      <th>Open</th>\n",
              "      <th>Volume</th>\n",
              "    </tr>\n",
              "    <tr>\n",
              "      <th>Date</th>\n",
              "      <th></th>\n",
              "      <th></th>\n",
              "      <th></th>\n",
              "      <th></th>\n",
              "      <th></th>\n",
              "      <th></th>\n",
              "      <th></th>\n",
              "    </tr>\n",
              "  </thead>\n",
              "  <tbody>\n",
              "    <tr>\n",
              "      <th>1986-03-14</th>\n",
              "      <td>0.063158</td>\n",
              "      <td>1.0</td>\n",
              "      <td>0.060980</td>\n",
              "      <td>0.063703</td>\n",
              "      <td>0.055536</td>\n",
              "      <td>0.055536</td>\n",
              "      <td>1.031789e+09</td>\n",
              "    </tr>\n",
              "    <tr>\n",
              "      <th>1986-03-17</th>\n",
              "      <td>0.064247</td>\n",
              "      <td>1.0</td>\n",
              "      <td>0.063158</td>\n",
              "      <td>0.064247</td>\n",
              "      <td>0.060980</td>\n",
              "      <td>0.060980</td>\n",
              "      <td>3.081600e+08</td>\n",
              "    </tr>\n",
              "    <tr>\n",
              "      <th>1986-03-18</th>\n",
              "      <td>0.062613</td>\n",
              "      <td>0.0</td>\n",
              "      <td>0.064247</td>\n",
              "      <td>0.064792</td>\n",
              "      <td>0.063158</td>\n",
              "      <td>0.063158</td>\n",
              "      <td>1.331712e+08</td>\n",
              "    </tr>\n",
              "    <tr>\n",
              "      <th>1986-03-19</th>\n",
              "      <td>0.061524</td>\n",
              "      <td>0.0</td>\n",
              "      <td>0.062613</td>\n",
              "      <td>0.064792</td>\n",
              "      <td>0.062069</td>\n",
              "      <td>0.064247</td>\n",
              "      <td>6.776640e+07</td>\n",
              "    </tr>\n",
              "    <tr>\n",
              "      <th>1986-03-20</th>\n",
              "      <td>0.059891</td>\n",
              "      <td>0.0</td>\n",
              "      <td>0.061524</td>\n",
              "      <td>0.063158</td>\n",
              "      <td>0.060980</td>\n",
              "      <td>0.062613</td>\n",
              "      <td>4.789440e+07</td>\n",
              "    </tr>\n",
              "  </tbody>\n",
              "</table>\n",
              "</div>\n",
              "      <button class=\"colab-df-convert\" onclick=\"convertToInteractive('df-1c48fcdb-63ee-402a-9bdf-b272a06c9fd3')\"\n",
              "              title=\"Convert this dataframe to an interactive table.\"\n",
              "              style=\"display:none;\">\n",
              "        \n",
              "  <svg xmlns=\"http://www.w3.org/2000/svg\" height=\"24px\"viewBox=\"0 0 24 24\"\n",
              "       width=\"24px\">\n",
              "    <path d=\"M0 0h24v24H0V0z\" fill=\"none\"/>\n",
              "    <path d=\"M18.56 5.44l.94 2.06.94-2.06 2.06-.94-2.06-.94-.94-2.06-.94 2.06-2.06.94zm-11 1L8.5 8.5l.94-2.06 2.06-.94-2.06-.94L8.5 2.5l-.94 2.06-2.06.94zm10 10l.94 2.06.94-2.06 2.06-.94-2.06-.94-.94-2.06-.94 2.06-2.06.94z\"/><path d=\"M17.41 7.96l-1.37-1.37c-.4-.4-.92-.59-1.43-.59-.52 0-1.04.2-1.43.59L10.3 9.45l-7.72 7.72c-.78.78-.78 2.05 0 2.83L4 21.41c.39.39.9.59 1.41.59.51 0 1.02-.2 1.41-.59l7.78-7.78 2.81-2.81c.8-.78.8-2.07 0-2.86zM5.41 20L4 18.59l7.72-7.72 1.47 1.35L5.41 20z\"/>\n",
              "  </svg>\n",
              "      </button>\n",
              "      \n",
              "  <style>\n",
              "    .colab-df-container {\n",
              "      display:flex;\n",
              "      flex-wrap:wrap;\n",
              "      gap: 12px;\n",
              "    }\n",
              "\n",
              "    .colab-df-convert {\n",
              "      background-color: #E8F0FE;\n",
              "      border: none;\n",
              "      border-radius: 50%;\n",
              "      cursor: pointer;\n",
              "      display: none;\n",
              "      fill: #1967D2;\n",
              "      height: 32px;\n",
              "      padding: 0 0 0 0;\n",
              "      width: 32px;\n",
              "    }\n",
              "\n",
              "    .colab-df-convert:hover {\n",
              "      background-color: #E2EBFA;\n",
              "      box-shadow: 0px 1px 2px rgba(60, 64, 67, 0.3), 0px 1px 3px 1px rgba(60, 64, 67, 0.15);\n",
              "      fill: #174EA6;\n",
              "    }\n",
              "\n",
              "    [theme=dark] .colab-df-convert {\n",
              "      background-color: #3B4455;\n",
              "      fill: #D2E3FC;\n",
              "    }\n",
              "\n",
              "    [theme=dark] .colab-df-convert:hover {\n",
              "      background-color: #434B5C;\n",
              "      box-shadow: 0px 1px 3px 1px rgba(0, 0, 0, 0.15);\n",
              "      filter: drop-shadow(0px 1px 2px rgba(0, 0, 0, 0.3));\n",
              "      fill: #FFFFFF;\n",
              "    }\n",
              "  </style>\n",
              "\n",
              "      <script>\n",
              "        const buttonEl =\n",
              "          document.querySelector('#df-1c48fcdb-63ee-402a-9bdf-b272a06c9fd3 button.colab-df-convert');\n",
              "        buttonEl.style.display =\n",
              "          google.colab.kernel.accessAllowed ? 'block' : 'none';\n",
              "\n",
              "        async function convertToInteractive(key) {\n",
              "          const element = document.querySelector('#df-1c48fcdb-63ee-402a-9bdf-b272a06c9fd3');\n",
              "          const dataTable =\n",
              "            await google.colab.kernel.invokeFunction('convertToInteractive',\n",
              "                                                     [key], {});\n",
              "          if (!dataTable) return;\n",
              "\n",
              "          const docLinkHtml = 'Like what you see? Visit the ' +\n",
              "            '<a target=\"_blank\" href=https://colab.research.google.com/notebooks/data_table.ipynb>data table notebook</a>'\n",
              "            + ' to learn more about interactive tables.';\n",
              "          element.innerHTML = '';\n",
              "          dataTable['output_type'] = 'display_data';\n",
              "          await google.colab.output.renderOutput(dataTable, element);\n",
              "          const docLink = document.createElement('div');\n",
              "          docLink.innerHTML = docLinkHtml;\n",
              "          element.appendChild(docLink);\n",
              "        }\n",
              "      </script>\n",
              "    </div>\n",
              "  </div>\n",
              "  "
            ],
            "text/plain": [
              "            Actual_Close  Target     Close      High       Low      Open  \\\n",
              "Date                                                                       \n",
              "1986-03-14      0.063158     1.0  0.060980  0.063703  0.055536  0.055536   \n",
              "1986-03-17      0.064247     1.0  0.063158  0.064247  0.060980  0.060980   \n",
              "1986-03-18      0.062613     0.0  0.064247  0.064792  0.063158  0.063158   \n",
              "1986-03-19      0.061524     0.0  0.062613  0.064792  0.062069  0.064247   \n",
              "1986-03-20      0.059891     0.0  0.061524  0.063158  0.060980  0.062613   \n",
              "\n",
              "                  Volume  \n",
              "Date                      \n",
              "1986-03-14  1.031789e+09  \n",
              "1986-03-17  3.081600e+08  \n",
              "1986-03-18  1.331712e+08  \n",
              "1986-03-19  6.776640e+07  \n",
              "1986-03-20  4.789440e+07  "
            ]
          },
          "execution_count": 15,
          "metadata": {},
          "output_type": "execute_result"
        }
      ],
      "source": [
        "data.head()"
      ]
    },
    {
      "cell_type": "code",
      "execution_count": 15,
      "metadata": {
        "id": "ql8rDIsinAD3"
      },
      "outputs": [],
      "source": []
    },
    {
      "cell_type": "markdown",
      "metadata": {
        "id": "UXb1pY4ImkCc"
      },
      "source": [
        "# 3. Training A Machine Learning Model"
      ]
    },
    {
      "cell_type": "code",
      "execution_count": 16,
      "metadata": {
        "colab": {
          "base_uri": "https://localhost:8080/"
        },
        "id": "SXvgZl8hiRqr",
        "outputId": "f15deea4-e40a-4fe4-e2f7-872293acaf7b"
      },
      "outputs": [
        {
          "name": "stdout",
          "output_type": "stream",
          "text": [
            "Looking in indexes: https://pypi.org/simple, https://us-python.pkg.dev/colab-wheels/public/simple/\n",
            "Requirement already satisfied: scikit-learn in /usr/local/lib/python3.7/dist-packages (1.0.2)\n",
            "Requirement already satisfied: joblib>=0.11 in /usr/local/lib/python3.7/dist-packages (from scikit-learn) (1.1.0)\n",
            "Requirement already satisfied: threadpoolctl>=2.0.0 in /usr/local/lib/python3.7/dist-packages (from scikit-learn) (3.1.0)\n",
            "Requirement already satisfied: scipy>=1.1.0 in /usr/local/lib/python3.7/dist-packages (from scikit-learn) (1.7.3)\n",
            "Requirement already satisfied: numpy>=1.14.6 in /usr/local/lib/python3.7/dist-packages (from scikit-learn) (1.21.6)\n"
          ]
        }
      ],
      "source": [
        "!pip install scikit-learn # always install the library using scikit-learn, but import it using import sklearn"
      ]
    },
    {
      "cell_type": "code",
      "execution_count": 17,
      "metadata": {
        "id": "P5jnqN-Gmhkk"
      },
      "outputs": [],
      "source": [
        "from sklearn.ensemble import RandomForestClassifier # good classifier as it can identify non-linear relations in the data"
      ]
    },
    {
      "cell_type": "code",
      "execution_count": 18,
      "metadata": {
        "id": "q3ZMv95inwZ0"
      },
      "outputs": [],
      "source": [
        "# initializing the model\n",
        "model = RandomForestClassifier(n_estimators=100, min_samples_split=300, random_state=42)"
      ]
    },
    {
      "cell_type": "code",
      "execution_count": 19,
      "metadata": {
        "colab": {
          "base_uri": "https://localhost:8080/"
        },
        "id": "8Ml8eoIDo2aC",
        "outputId": "f88ccbe2-3052-482e-aca3-954d4c167313"
      },
      "outputs": [
        {
          "data": {
            "text/plain": [
              "RandomForestClassifier(min_samples_split=300, random_state=42)"
            ]
          },
          "execution_count": 19,
          "metadata": {},
          "output_type": "execute_result"
        }
      ],
      "source": [
        "# training the model\n",
        "train = data.iloc[:-100]\n",
        "test = data.iloc[-100:]\n",
        "\n",
        "model.fit(train[predictors], train['Target']) # X & y"
      ]
    },
    {
      "cell_type": "code",
      "execution_count": 20,
      "metadata": {
        "id": "a_e_vIkRsgOy"
      },
      "outputs": [],
      "source": [
        "from sklearn.metrics import precision_score # identifying the score for how much false_positives the model gives while predicting"
      ]
    },
    {
      "cell_type": "code",
      "execution_count": 21,
      "metadata": {
        "colab": {
          "base_uri": "https://localhost:8080/"
        },
        "id": "lnGLxFAYtBfh",
        "outputId": "d250399c-385c-4e52-ee1c-204314c99118"
      },
      "outputs": [
        {
          "data": {
            "text/plain": [
              "array([1., 1., 1., 1., 1., 1., 1., 1., 1., 1., 1., 1., 1., 1., 1., 1., 1.,\n",
              "       1., 1., 1., 1., 1., 1., 1., 1., 1., 1., 1., 1., 1., 1., 1., 1., 1.,\n",
              "       1., 1., 1., 1., 1., 1., 1., 1., 1., 1., 1., 1., 1., 1., 1., 1., 1.,\n",
              "       1., 1., 1., 1., 1., 1., 1., 1., 1., 1., 1., 1., 1., 1., 1., 0., 1.,\n",
              "       1., 1., 0., 0., 0., 0., 0., 0., 0., 0., 1., 1., 1., 1., 1., 1., 1.,\n",
              "       1., 1., 1., 1., 1., 1., 1., 1., 1., 1., 1., 1., 1., 1., 1.])"
            ]
          },
          "execution_count": 21,
          "metadata": {},
          "output_type": "execute_result"
        }
      ],
      "source": [
        "preds = model.predict(test[predictors])\n",
        "preds"
      ]
    },
    {
      "cell_type": "code",
      "execution_count": 22,
      "metadata": {
        "colab": {
          "base_uri": "https://localhost:8080/"
        },
        "id": "WBfbGlXBthgZ",
        "outputId": "6aae3ec8-e3e2-4bde-d49c-e0500999d030"
      },
      "outputs": [
        {
          "data": {
            "text/plain": [
              "Date\n",
              "2022-05-02    1.0\n",
              "2022-05-03    1.0\n",
              "2022-05-04    1.0\n",
              "2022-05-05    1.0\n",
              "2022-05-06    1.0\n",
              "dtype: float64"
            ]
          },
          "execution_count": 22,
          "metadata": {},
          "output_type": "execute_result"
        }
      ],
      "source": [
        "import pandas as pd\n",
        "\n",
        "# turning the predicted calues into a Pandas Series\n",
        "preds = pd.Series(preds, index=test.index)\n",
        "preds.head()"
      ]
    },
    {
      "cell_type": "code",
      "execution_count": 23,
      "metadata": {
        "colab": {
          "base_uri": "https://localhost:8080/"
        },
        "id": "QIzqTiBmt8sa",
        "outputId": "f9e0646d-b136-41eb-d9a0-6a3248a91c09"
      },
      "outputs": [
        {
          "data": {
            "text/plain": [
              "0.4725274725274725"
            ]
          },
          "execution_count": 23,
          "metadata": {},
          "output_type": "execute_result"
        }
      ],
      "source": [
        "precision_score(test['Target'], preds)"
      ]
    },
    {
      "cell_type": "code",
      "execution_count": 24,
      "metadata": {
        "colab": {
          "base_uri": "https://localhost:8080/",
          "height": 237
        },
        "id": "mz0u1Id8uHYY",
        "outputId": "a5fe717d-4611-48ec-e658-c7576bd6b70f"
      },
      "outputs": [
        {
          "data": {
            "text/html": [
              "\n",
              "  <div id=\"df-60f88abd-5f2f-40e1-b112-439377cad9a4\">\n",
              "    <div class=\"colab-df-container\">\n",
              "      <div>\n",
              "<style scoped>\n",
              "    .dataframe tbody tr th:only-of-type {\n",
              "        vertical-align: middle;\n",
              "    }\n",
              "\n",
              "    .dataframe tbody tr th {\n",
              "        vertical-align: top;\n",
              "    }\n",
              "\n",
              "    .dataframe thead th {\n",
              "        text-align: right;\n",
              "    }\n",
              "</style>\n",
              "<table border=\"1\" class=\"dataframe\">\n",
              "  <thead>\n",
              "    <tr style=\"text-align: right;\">\n",
              "      <th></th>\n",
              "      <th>Target</th>\n",
              "      <th>Predictions</th>\n",
              "    </tr>\n",
              "    <tr>\n",
              "      <th>Date</th>\n",
              "      <th></th>\n",
              "      <th></th>\n",
              "    </tr>\n",
              "  </thead>\n",
              "  <tbody>\n",
              "    <tr>\n",
              "      <th>2022-05-02</th>\n",
              "      <td>1.0</td>\n",
              "      <td>1.0</td>\n",
              "    </tr>\n",
              "    <tr>\n",
              "      <th>2022-05-03</th>\n",
              "      <td>0.0</td>\n",
              "      <td>1.0</td>\n",
              "    </tr>\n",
              "    <tr>\n",
              "      <th>2022-05-04</th>\n",
              "      <td>1.0</td>\n",
              "      <td>1.0</td>\n",
              "    </tr>\n",
              "    <tr>\n",
              "      <th>2022-05-05</th>\n",
              "      <td>0.0</td>\n",
              "      <td>1.0</td>\n",
              "    </tr>\n",
              "    <tr>\n",
              "      <th>2022-05-06</th>\n",
              "      <td>0.0</td>\n",
              "      <td>1.0</td>\n",
              "    </tr>\n",
              "  </tbody>\n",
              "</table>\n",
              "</div>\n",
              "      <button class=\"colab-df-convert\" onclick=\"convertToInteractive('df-60f88abd-5f2f-40e1-b112-439377cad9a4')\"\n",
              "              title=\"Convert this dataframe to an interactive table.\"\n",
              "              style=\"display:none;\">\n",
              "        \n",
              "  <svg xmlns=\"http://www.w3.org/2000/svg\" height=\"24px\"viewBox=\"0 0 24 24\"\n",
              "       width=\"24px\">\n",
              "    <path d=\"M0 0h24v24H0V0z\" fill=\"none\"/>\n",
              "    <path d=\"M18.56 5.44l.94 2.06.94-2.06 2.06-.94-2.06-.94-.94-2.06-.94 2.06-2.06.94zm-11 1L8.5 8.5l.94-2.06 2.06-.94-2.06-.94L8.5 2.5l-.94 2.06-2.06.94zm10 10l.94 2.06.94-2.06 2.06-.94-2.06-.94-.94-2.06-.94 2.06-2.06.94z\"/><path d=\"M17.41 7.96l-1.37-1.37c-.4-.4-.92-.59-1.43-.59-.52 0-1.04.2-1.43.59L10.3 9.45l-7.72 7.72c-.78.78-.78 2.05 0 2.83L4 21.41c.39.39.9.59 1.41.59.51 0 1.02-.2 1.41-.59l7.78-7.78 2.81-2.81c.8-.78.8-2.07 0-2.86zM5.41 20L4 18.59l7.72-7.72 1.47 1.35L5.41 20z\"/>\n",
              "  </svg>\n",
              "      </button>\n",
              "      \n",
              "  <style>\n",
              "    .colab-df-container {\n",
              "      display:flex;\n",
              "      flex-wrap:wrap;\n",
              "      gap: 12px;\n",
              "    }\n",
              "\n",
              "    .colab-df-convert {\n",
              "      background-color: #E8F0FE;\n",
              "      border: none;\n",
              "      border-radius: 50%;\n",
              "      cursor: pointer;\n",
              "      display: none;\n",
              "      fill: #1967D2;\n",
              "      height: 32px;\n",
              "      padding: 0 0 0 0;\n",
              "      width: 32px;\n",
              "    }\n",
              "\n",
              "    .colab-df-convert:hover {\n",
              "      background-color: #E2EBFA;\n",
              "      box-shadow: 0px 1px 2px rgba(60, 64, 67, 0.3), 0px 1px 3px 1px rgba(60, 64, 67, 0.15);\n",
              "      fill: #174EA6;\n",
              "    }\n",
              "\n",
              "    [theme=dark] .colab-df-convert {\n",
              "      background-color: #3B4455;\n",
              "      fill: #D2E3FC;\n",
              "    }\n",
              "\n",
              "    [theme=dark] .colab-df-convert:hover {\n",
              "      background-color: #434B5C;\n",
              "      box-shadow: 0px 1px 3px 1px rgba(0, 0, 0, 0.15);\n",
              "      filter: drop-shadow(0px 1px 2px rgba(0, 0, 0, 0.3));\n",
              "      fill: #FFFFFF;\n",
              "    }\n",
              "  </style>\n",
              "\n",
              "      <script>\n",
              "        const buttonEl =\n",
              "          document.querySelector('#df-60f88abd-5f2f-40e1-b112-439377cad9a4 button.colab-df-convert');\n",
              "        buttonEl.style.display =\n",
              "          google.colab.kernel.accessAllowed ? 'block' : 'none';\n",
              "\n",
              "        async function convertToInteractive(key) {\n",
              "          const element = document.querySelector('#df-60f88abd-5f2f-40e1-b112-439377cad9a4');\n",
              "          const dataTable =\n",
              "            await google.colab.kernel.invokeFunction('convertToInteractive',\n",
              "                                                     [key], {});\n",
              "          if (!dataTable) return;\n",
              "\n",
              "          const docLinkHtml = 'Like what you see? Visit the ' +\n",
              "            '<a target=\"_blank\" href=https://colab.research.google.com/notebooks/data_table.ipynb>data table notebook</a>'\n",
              "            + ' to learn more about interactive tables.';\n",
              "          element.innerHTML = '';\n",
              "          dataTable['output_type'] = 'display_data';\n",
              "          await google.colab.output.renderOutput(dataTable, element);\n",
              "          const docLink = document.createElement('div');\n",
              "          docLink.innerHTML = docLinkHtml;\n",
              "          element.appendChild(docLink);\n",
              "        }\n",
              "      </script>\n",
              "    </div>\n",
              "  </div>\n",
              "  "
            ],
            "text/plain": [
              "            Target  Predictions\n",
              "Date                           \n",
              "2022-05-02     1.0          1.0\n",
              "2022-05-03     0.0          1.0\n",
              "2022-05-04     1.0          1.0\n",
              "2022-05-05     0.0          1.0\n",
              "2022-05-06     0.0          1.0"
            ]
          },
          "execution_count": 24,
          "metadata": {},
          "output_type": "execute_result"
        }
      ],
      "source": [
        "combined = pd.concat({'Target': test['Target'], 'Predictions': preds}, axis=1)\n",
        "combined.head()"
      ]
    },
    {
      "cell_type": "code",
      "execution_count": 25,
      "metadata": {
        "colab": {
          "base_uri": "https://localhost:8080/",
          "height": 294
        },
        "id": "d5xjb4Y0ujD9",
        "outputId": "8653b916-26e0-4eae-9423-59bf1360ef0c"
      },
      "outputs": [
        {
          "data": {
            "text/plain": [
              "<matplotlib.axes._subplots.AxesSubplot at 0x7f620cc0cf50>"
            ]
          },
          "execution_count": 25,
          "metadata": {},
          "output_type": "execute_result"
        },
        {
          "data": {
            "image/png": "[encoded data removed]",
            "text/plain": [
              "<Figure size 432x288 with 1 Axes>"
            ]
          },
          "metadata": {
            "needs_background": "light"
          },
          "output_type": "display_data"
        }
      ],
      "source": [
        "combined.plot()"
      ]
    },
    {
      "cell_type": "code",
      "execution_count": 25,
      "metadata": {
        "id": "1urYQthcuq9T"
      },
      "outputs": [],
      "source": []
    },
    {
      "cell_type": "markdown",
      "metadata": {
        "id": "2JCLlzhDxGaY"
      },
      "source": [
        "# 4. Creating a Backtesting Engine"
      ]
    },
    {
      "cell_type": "code",
      "execution_count": 64,
      "metadata": {
        "id": "SzH8wZT4xGFY"
      },
      "outputs": [],
      "source": [
        "# backtesting -> using past data t predict future data (in batches)\n",
        "# backtesting involves lopping the data, splitting the data into batches, and then training the model to predict the next batch of data along with the previous data\n",
        "\n",
        "start = 1000\n",
        "step = 750 # lesser steps the better # maybe 100 ?\n",
        "\n",
        "def backtest(data, model, predictors, start=1000, step=750, threshold=0.6):\n",
        "  predictions = []\n",
        "  for i in range(start, data.shape[0], step):\n",
        "    train = data.iloc[0:i].copy()\n",
        "    test = data.iloc[i:(i+step)].copy()\n",
        "\n",
        "    model.fit(train[predictors], train['Target'])\n",
        "\n",
        "    preds = model.predict_proba(test[predictors])[:, 1] # we only need the second column of the probabilities i.e. Whether the stock price will rise or not\n",
        "    preds = pd.Series(preds, index=test.index) # because it is default as numpy array\n",
        "    preds[preds > threshold] = 1\n",
        "    preds[preds <= threshold] = 0\n",
        "\n",
        "    combined = pd.concat({\"Target\": test['Target'], 'Predictions': preds}, axis=1)\n",
        "    predictions.append(combined)\n",
        "\n",
        "  predictions = pd.concat(predictions)\n",
        "  return predictions"
      ]
    },
    {
      "cell_type": "code",
      "execution_count": 42,
      "metadata": {
        "colab": {
          "base_uri": "https://localhost:8080/"
        },
        "id": "Ov5EI7hPh59i",
        "outputId": "cf4c917a-522c-4a46-f4e2-0762fb80147d"
      },
      "outputs": [
        {
          "name": "stdout",
          "output_type": "stream",
          "text": [
            "            Target  Predictions\n",
            "Date                           \n",
            "1990-02-27     0.0          1.0\n",
            "1990-02-28     1.0          1.0\n",
            "1990-03-01     1.0          0.0\n",
            "1990-03-02     1.0          1.0\n",
            "1990-03-05     1.0          1.0\n",
            "...            ...          ...\n",
            "2022-09-16     0.0          0.0\n",
            "2022-09-19     0.0          0.0\n",
            "2022-09-20     0.0          0.0\n",
            "2022-09-21     0.0          0.0\n",
            "2022-09-22     1.0          0.0\n",
            "\n",
            "[8207 rows x 2 columns]\n"
          ]
        }
      ],
      "source": [
        "predictions = backtest(data, model, predictors)\n",
        "print(predictions)"
      ]
    },
    {
      "cell_type": "code",
      "execution_count": 43,
      "metadata": {
        "colab": {
          "base_uri": "https://localhost:8080/"
        },
        "id": "ciNQOrQRyITp",
        "outputId": "ca46213e-fcad-4ab5-b746-c901d32903f1"
      },
      "outputs": [
        {
          "data": {
            "text/plain": [
              "0.0    7625\n",
              "1.0     582\n",
              "Name: Predictions, dtype: int64"
            ]
          },
          "execution_count": 43,
          "metadata": {},
          "output_type": "execute_result"
        }
      ],
      "source": [
        "predictions['Predictions'].value_counts()"
      ]
    },
    {
      "cell_type": "code",
      "execution_count": null,
      "metadata": {
        "id": "cyVqNAEDc_kj"
      },
      "outputs": [],
      "source": []
    },
    {
      "cell_type": "markdown",
      "metadata": {
        "id": "uwfnG3ktg__D"
      },
      "source": [
        "# 5. Improving the Accuracy of the Model\n"
      ]
    },
    {
      "cell_type": "code",
      "execution_count": 44,
      "metadata": {
        "colab": {
          "base_uri": "https://localhost:8080/"
        },
        "id": "SDgiYfhfg_tT",
        "outputId": "6bb480f0-2a96-48f9-8f3f-bddb9c455485"
      },
      "outputs": [
        {
          "data": {
            "text/plain": [
              "0.4948453608247423"
            ]
          },
          "execution_count": 44,
          "metadata": {},
          "output_type": "execute_result"
        }
      ],
      "source": [
        "precision_score(predictions['Target'], predictions['Predictions'])"
      ]
    },
    {
      "cell_type": "code",
      "execution_count": 51,
      "metadata": {
        "id": "_KaU44ObhNHe"
      },
      "outputs": [],
      "source": [
        "# sone useful trends\n",
        "weekly_mean = data.rolling(7).mean()\n",
        "quarterly_mean = data.rolling(90).mean()\n",
        "annual_mean = data.rolling(365).mean()\n",
        "\n",
        "weekly_trend = data.shift(1).rolling(7).mean()['Target'] # says what % price would go up based on he average of the past 7 days"
      ]
    },
    {
      "cell_type": "code",
      "execution_count": 52,
      "metadata": {
        "colab": {
          "base_uri": "https://localhost:8080/"
        },
        "id": "nqxdBf2Zia-y",
        "outputId": "3914feea-a10c-47b9-b6db-8608176e0a28"
      },
      "outputs": [
        {
          "name": "stdout",
          "output_type": "stream",
          "text": [
            "            Actual_Close  Target       Close        High         Low  \\\n",
            "Date                                                                   \n",
            "1986-03-14      0.063158     1.0    0.060980    0.063703    0.055536   \n",
            "1986-03-17      0.064247     1.0    0.063158    0.064247    0.060980   \n",
            "1986-03-18      0.062613     0.0    0.064247    0.064792    0.063158   \n",
            "1986-03-19      0.061524     0.0    0.062613    0.064792    0.062069   \n",
            "1986-03-20      0.059891     0.0    0.061524    0.063158    0.060980   \n",
            "...                  ...     ...         ...         ...         ...   \n",
            "2022-09-16    244.740005     0.0  245.380005  251.399994  244.020004   \n",
            "2022-09-19    244.520004     0.0  244.740005  245.300003  242.059998   \n",
            "2022-09-20    242.449997     0.0  244.520004  245.139999  240.850006   \n",
            "2022-09-21    238.949997     0.0  242.449997  243.509995  239.639999   \n",
            "2022-09-22    240.979996     1.0  238.949997  247.660004  238.899994   \n",
            "\n",
            "                  Open        Volume  weekly_mean  quarterly_mean  \\\n",
            "Date                                                                \n",
            "1986-03-14    0.055536  1.031789e+09          NaN             NaN   \n",
            "1986-03-17    0.060980  3.081600e+08          NaN             NaN   \n",
            "1986-03-18    0.063158  1.331712e+08          NaN             NaN   \n",
            "1986-03-19    0.064247  6.776640e+07          NaN             NaN   \n",
            "1986-03-20    0.062613  4.789440e+07          NaN             NaN   \n",
            "...                ...           ...          ...             ...   \n",
            "2022-09-16  249.770004  3.153090e+07     1.046371        1.080578   \n",
            "2022-09-19  244.259995  3.977510e+07     1.041315        1.082557   \n",
            "2022-09-20  242.470001  2.682690e+07     1.034073        1.082450   \n",
            "2022-09-21  242.070007  2.666030e+07     1.029933        1.090915   \n",
            "2022-09-22  244.270004  2.862560e+07     1.028458        1.106184   \n",
            "\n",
            "            annual_mean  annual_weekly_mean  annual_quarterly_mean  \\\n",
            "Date                                                                 \n",
            "1986-03-14          NaN                 NaN                    NaN   \n",
            "1986-03-17          NaN                 NaN                    NaN   \n",
            "1986-03-18          NaN                 NaN                    NaN   \n",
            "1986-03-19          NaN                 NaN                    NaN   \n",
            "1986-03-20          NaN                 NaN                    NaN   \n",
            "...                 ...                 ...                    ...   \n",
            "2022-09-16     1.157973            1.106656               1.071624   \n",
            "2022-09-19     1.160979            1.114916               1.072441   \n",
            "2022-09-20     1.161961            1.123674               1.073455   \n",
            "2022-09-21     1.171766            1.137712               1.074113   \n",
            "2022-09-22     1.188772            1.155878               1.074660   \n",
            "\n",
            "            weekly_trend  open_close_ratio  high_close_ratio  low_close_ratio  \n",
            "Date                                                                           \n",
            "1986-03-14           NaN          0.910720          1.044650         0.910720  \n",
            "1986-03-17           NaN          0.965519          1.017250         0.965519  \n",
            "1986-03-18           NaN          0.983042          1.008474         0.983042  \n",
            "1986-03-19           NaN          1.026095          1.034791         0.991305  \n",
            "1986-03-20           NaN          1.017698          1.026547         0.991151  \n",
            "...                  ...               ...               ...              ...  \n",
            "2022-09-16      0.714286          1.017891          1.024533         0.994458  \n",
            "2022-09-19      0.571429          0.998039          1.002288         0.989050  \n",
            "2022-09-20      0.428571          0.991616          1.002536         0.984991  \n",
            "2022-09-21      0.285714          0.998433          1.004372         0.988410  \n",
            "2022-09-22      0.142857          1.022264          1.036451         0.999791  \n",
            "\n",
            "[9207 rows x 16 columns]\n"
          ]
        }
      ],
      "source": [
        "# these data which come from the available data themselves,\n",
        "# enable the model to know the historical data during training phase & testing phase too\n",
        "# And it helps the model to know what today \n",
        "\n",
        "data_updated = data.copy()\n",
        "data_updated['weekly_mean'] = weekly_mean['Close'] / data_updated['Close']\n",
        "data_updated['quarterly_mean'] = quarterly_mean['Close'] / data_updated['Close']\n",
        "data_updated['annual_mean'] = annual_mean['Close'] / data_updated['Close']\n",
        "\n",
        "data_updated['annual_weekly_mean'] = data_updated['annual_mean'] / data_updated['weekly_mean']\n",
        "data_updated['annual_quarterly_mean'] = data_updated['annual_mean'] / data_updated['quarterly_mean']\n",
        "data_updated['weekly_trend'] = weekly_trend\n",
        "\n",
        "data_updated['open_close_ratio'] = data_updated['Open'] / data_updated['Close']\n",
        "data_updated['high_close_ratio'] = data_updated['High'] / data_updated['Close']\n",
        "data_updated['low_close_ratio'] = data_updated['Low'] / data_updated['Close']\n",
        "\n",
        "full_predictors = predictors + ['weekly_mean', 'quarterly_mean', 'annual_mean', 'annual_weekly_mean', \n",
        "                                'annual_quarterly_mean', 'weekly_trend', 'open_close_ratio',\n",
        "                                'high_close_ratio', 'low_close_ratio']\n",
        "\n",
        "print(data_updated)"
      ]
    },
    {
      "cell_type": "code",
      "execution_count": 53,
      "metadata": {
        "colab": {
          "base_uri": "https://localhost:8080/"
        },
        "id": "g9tgecEgiqpK",
        "outputId": "18797d14-e7a5-4460-9cb2-0f47f11c5727"
      },
      "outputs": [
        {
          "data": {
            "text/plain": [
              "Actual_Close               0\n",
              "Target                     0\n",
              "Close                      0\n",
              "High                       0\n",
              "Low                        0\n",
              "Open                       0\n",
              "Volume                     0\n",
              "weekly_mean                6\n",
              "quarterly_mean            89\n",
              "annual_mean              364\n",
              "annual_weekly_mean       364\n",
              "annual_quarterly_mean    364\n",
              "weekly_trend               7\n",
              "open_close_ratio           0\n",
              "high_close_ratio           0\n",
              "low_close_ratio            0\n",
              "dtype: int64"
            ]
          },
          "execution_count": 53,
          "metadata": {},
          "output_type": "execute_result"
        }
      ],
      "source": [
        "data_updated.isna().sum()"
      ]
    },
    {
      "cell_type": "code",
      "execution_count": 55,
      "metadata": {
        "colab": {
          "base_uri": "https://localhost:8080/"
        },
        "id": "4WkTs6w0lGKD",
        "outputId": "a3741183-ced0-4c1f-aabd-811dfa04cedd"
      },
      "outputs": [
        {
          "data": {
            "text/plain": [
              "Actual_Close             0\n",
              "Target                   0\n",
              "Close                    0\n",
              "High                     0\n",
              "Low                      0\n",
              "Open                     0\n",
              "Volume                   0\n",
              "weekly_mean              0\n",
              "quarterly_mean           0\n",
              "annual_mean              0\n",
              "annual_weekly_mean       0\n",
              "annual_quarterly_mean    0\n",
              "weekly_trend             0\n",
              "open_close_ratio         0\n",
              "high_close_ratio         0\n",
              "low_close_ratio          0\n",
              "dtype: int64"
            ]
          },
          "execution_count": 55,
          "metadata": {},
          "output_type": "execute_result"
        }
      ],
      "source": [
        "# altogether 364 rows have na values because the highest rolling average was for 365 days for annual mean.\n",
        "# we can drop these first 364 rows and conitue with the rest\n",
        "data_filtered = data_updated.dropna()\n",
        "data_filtered.isna().sum()"
      ]
    },
    {
      "cell_type": "code",
      "execution_count": 56,
      "metadata": {
        "id": "C8vlEkhTno8N"
      },
      "outputs": [],
      "source": [
        "# backtesting the entire dataset\n",
        "predictions = backtest(data_filtered, model, full_predictors, step=100)"
      ]
    },
    {
      "cell_type": "code",
      "execution_count": 57,
      "metadata": {
        "colab": {
          "base_uri": "https://localhost:8080/"
        },
        "id": "gtMKcxAyoAWV",
        "outputId": "1462d0a6-efff-4a36-9230-a6d5a5c5145c"
      },
      "outputs": [
        {
          "data": {
            "text/plain": [
              "0.6277372262773723"
            ]
          },
          "execution_count": 57,
          "metadata": {},
          "output_type": "execute_result"
        }
      ],
      "source": [
        "precision_score(predictions['Target'], predictions['Predictions'])"
      ]
    },
    {
      "cell_type": "code",
      "execution_count": 58,
      "metadata": {
        "colab": {
          "base_uri": "https://localhost:8080/"
        },
        "id": "Czr0_FQjoOLU",
        "outputId": "97c4f59e-3eea-430c-8b3a-be9f4bcaa432"
      },
      "outputs": [
        {
          "data": {
            "text/plain": [
              "0.0    7569\n",
              "1.0     274\n",
              "Name: Predictions, dtype: int64"
            ]
          },
          "execution_count": 58,
          "metadata": {},
          "output_type": "execute_result"
        }
      ],
      "source": [
        "# lets see the days when we would trade based on the model\n",
        "predictions['Predictions'].value_counts()"
      ]
    },
    {
      "cell_type": "code",
      "execution_count": null,
      "metadata": {
        "id": "lU72_-Esola0"
      },
      "outputs": [],
      "source": []
    }
  ],
  "metadata": {
    "colab": {
      "collapsed_sections": [],
      "provenance": []
    },
    "kernelspec": {
      "display_name": "Python 3.10.6 64-bit",
      "language": "python",
      "name": "python3"
    },
    "language_info": {
      "codemirror_mode": {
        "name": "ipython",
        "version": 3
      },
      "file_extension": ".py",
      "mimetype": "text/x-python",
      "name": "python",
      "nbconvert_exporter": "python",
      "pygments_lexer": "ipython3",
      "version": "3.10.6"
    },
    "vscode": {
      "interpreter": {
        "hash": "369f2c481f4da34e4445cda3fffd2e751bd1c4d706f27375911949ba6bb62e1c"
      }
    }
  },
  "nbformat": 4,
  "nbformat_minor": 0
}
